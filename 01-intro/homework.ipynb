{
 "cells": [
  {
   "cell_type": "code",
   "execution_count": 1,
   "metadata": {},
   "outputs": [],
   "source": [
    "import pandas as pd"
   ]
  },
  {
   "cell_type": "markdown",
   "metadata": {},
   "source": [
    "#### **Data Ingestion**"
   ]
  },
  {
   "cell_type": "code",
   "execution_count": 5,
   "metadata": {},
   "outputs": [],
   "source": [
    "# Download the January data\n",
    "january_data_url = 'https://d37ci6vzurychx.cloudfront.net/trip-data/yellow_tripdata_2023-01.parquet'\n",
    "df_january = pd.read_parquet(january_data_url)\n",
    "\n",
    "# Download the February data\n",
    "february_data_url = 'https://d37ci6vzurychx.cloudfront.net/trip-data/yellow_tripdata_2023-02.parquet'\n",
    "df_february = pd.read_parquet(february_data_url)"
   ]
  },
  {
   "cell_type": "markdown",
   "metadata": {},
   "source": [
    "#### **Q1. Downloading the data**"
   ]
  },
  {
   "cell_type": "markdown",
   "metadata": {},
   "source": [
    "##### Read the data for January. How many columns are there?"
   ]
  },
  {
   "cell_type": "code",
   "execution_count": 6,
   "metadata": {},
   "outputs": [
    {
     "name": "stdout",
     "output_type": "stream",
     "text": [
      "Number of columns in January data: 19\n"
     ]
    }
   ],
   "source": [
    "# Inspect the number of columns\n",
    "num_columns = df_january.shape[1]\n",
    "print(f'Number of columns in January data: {num_columns}')"
   ]
  },
  {
   "cell_type": "markdown",
   "metadata": {},
   "source": [
    "#### **Q2. Computing duration**"
   ]
  },
  {
   "cell_type": "markdown",
   "metadata": {},
   "source": [
    "##### What's the standard deviation of the trips duration in January?"
   ]
  },
  {
   "cell_type": "code",
   "execution_count": 7,
   "metadata": {},
   "outputs": [
    {
     "name": "stdout",
     "output_type": "stream",
     "text": [
      "Standard deviation of trip duration: 42.59\n"
     ]
    }
   ],
   "source": [
    "# Convert pickup and dropoff times to datetime\n",
    "df_january['tpep_pickup_datetime'] = pd.to_datetime(df_january['tpep_pickup_datetime'])\n",
    "df_january['tpep_dropoff_datetime'] = pd.to_datetime(df_january['tpep_dropoff_datetime'])\n",
    "\n",
    "# Compute the duration in minutes\n",
    "df_january['duration'] = (df_january['tpep_dropoff_datetime'] - df_january['tpep_pickup_datetime']).dt.total_seconds() / 60\n",
    "\n",
    "# Calculate the standard deviation of the duration\n",
    "duration_std = df_january['duration'].std()\n",
    "print(f'Standard deviation of trip duration: {duration_std:.2f}')"
   ]
  },
  {
   "cell_type": "markdown",
   "metadata": {},
   "source": [
    "#### **Q3. Dropping outliers**"
   ]
  },
  {
   "cell_type": "markdown",
   "metadata": {},
   "source": [
    "##### What fraction of the records left after you dropped the outliers?"
   ]
  },
  {
   "cell_type": "code",
   "execution_count": 8,
   "metadata": {},
   "outputs": [
    {
     "name": "stdout",
     "output_type": "stream",
     "text": [
      "Fraction of records after dropping outliers: 98.12%\n"
     ]
    }
   ],
   "source": [
    "# Filter out durations that are outliers\n",
    "filtered_df = df_january[(df_january['duration'] >= 1) & (df_january['duration'] <= 60)]\n",
    "\n",
    "# Calculate the fraction of remaining records\n",
    "fraction_remaining = len(filtered_df) / len(df_january)\n",
    "print(f'Fraction of records after dropping outliers: {fraction_remaining:.2%}')"
   ]
  },
  {
   "cell_type": "markdown",
   "metadata": {},
   "source": [
    "#### **Q4. One-hot encoding**"
   ]
  },
  {
   "cell_type": "markdown",
   "metadata": {},
   "source": [
    "##### What's the dimensionality of this matrix (number of columns)?"
   ]
  },
  {
   "cell_type": "code",
   "execution_count": 9,
   "metadata": {},
   "outputs": [
    {
     "name": "stderr",
     "output_type": "stream",
     "text": [
      "C:\\Users\\Harshu\\AppData\\Local\\Temp\\ipykernel_13296\\1623018572.py:4: SettingWithCopyWarning: \n",
      "A value is trying to be set on a copy of a slice from a DataFrame.\n",
      "Try using .loc[row_indexer,col_indexer] = value instead\n",
      "\n",
      "See the caveats in the documentation: https://pandas.pydata.org/pandas-docs/stable/user_guide/indexing.html#returning-a-view-versus-a-copy\n",
      "  filtered_df['PULocationID'] = filtered_df['PULocationID'].astype(str)\n",
      "C:\\Users\\Harshu\\AppData\\Local\\Temp\\ipykernel_13296\\1623018572.py:5: SettingWithCopyWarning: \n",
      "A value is trying to be set on a copy of a slice from a DataFrame.\n",
      "Try using .loc[row_indexer,col_indexer] = value instead\n",
      "\n",
      "See the caveats in the documentation: https://pandas.pydata.org/pandas-docs/stable/user_guide/indexing.html#returning-a-view-versus-a-copy\n",
      "  filtered_df['DOLocationID'] = filtered_df['DOLocationID'].astype(str)\n"
     ]
    },
    {
     "name": "stdout",
     "output_type": "stream",
     "text": [
      "Number of columns in the feature matrix: 515\n"
     ]
    }
   ],
   "source": [
    "from sklearn.feature_extraction import DictVectorizer\n",
    "\n",
    "# Select relevant columns and convert to string\n",
    "filtered_df['PULocationID'] = filtered_df['PULocationID'].astype(str)\n",
    "filtered_df['DOLocationID'] = filtered_df['DOLocationID'].astype(str)\n",
    "\n",
    "# Convert the DataFrame to a list of dictionaries\n",
    "data_dicts = filtered_df[['PULocationID', 'DOLocationID']].to_dict(orient='records')\n",
    "\n",
    "# Fit a DictVectorizer\n",
    "dv = DictVectorizer()\n",
    "X_train = dv.fit_transform(data_dicts)\n",
    "\n",
    "# Get the dimensionality of the feature matrix\n",
    "num_columns = X_train.shape[1]\n",
    "print(f'Number of columns in the feature matrix: {num_columns}')"
   ]
  },
  {
   "cell_type": "markdown",
   "metadata": {},
   "source": [
    "#### **Q5. Training a model**"
   ]
  },
  {
   "cell_type": "markdown",
   "metadata": {},
   "source": [
    "##### What's the RMSE on train?"
   ]
  },
  {
   "cell_type": "code",
   "execution_count": 10,
   "metadata": {},
   "outputs": [
    {
     "name": "stdout",
     "output_type": "stream",
     "text": [
      "RMSE on train: 7.65\n"
     ]
    }
   ],
   "source": [
    "from sklearn.linear_model import LinearRegression\n",
    "from sklearn.metrics import mean_squared_error\n",
    "import numpy as np\n",
    "\n",
    "# Train a linear regression model\n",
    "target = filtered_df['duration']\n",
    "model = LinearRegression()\n",
    "model.fit(X_train, target)\n",
    "\n",
    "# Predict on the training data\n",
    "y_pred = model.predict(X_train)\n",
    "\n",
    "# Calculate the RMSE\n",
    "rmse_train = np.sqrt(mean_squared_error(target, y_pred))\n",
    "print(f'RMSE on train: {rmse_train:.2f}')\n"
   ]
  },
  {
   "cell_type": "markdown",
   "metadata": {},
   "source": [
    "#### **Q6. Evaluating the model**"
   ]
  },
  {
   "cell_type": "markdown",
   "metadata": {},
   "source": [
    "##### What's the RMSE on validation?"
   ]
  },
  {
   "cell_type": "code",
   "execution_count": 11,
   "metadata": {},
   "outputs": [
    {
     "name": "stderr",
     "output_type": "stream",
     "text": [
      "C:\\Users\\Harshu\\AppData\\Local\\Temp\\ipykernel_13296\\3507063423.py:6: SettingWithCopyWarning: \n",
      "A value is trying to be set on a copy of a slice from a DataFrame.\n",
      "Try using .loc[row_indexer,col_indexer] = value instead\n",
      "\n",
      "See the caveats in the documentation: https://pandas.pydata.org/pandas-docs/stable/user_guide/indexing.html#returning-a-view-versus-a-copy\n",
      "  filtered_df_feb['PULocationID'] = filtered_df_feb['PULocationID'].astype(str)\n",
      "C:\\Users\\Harshu\\AppData\\Local\\Temp\\ipykernel_13296\\3507063423.py:7: SettingWithCopyWarning: \n",
      "A value is trying to be set on a copy of a slice from a DataFrame.\n",
      "Try using .loc[row_indexer,col_indexer] = value instead\n",
      "\n",
      "See the caveats in the documentation: https://pandas.pydata.org/pandas-docs/stable/user_guide/indexing.html#returning-a-view-versus-a-copy\n",
      "  filtered_df_feb['DOLocationID'] = filtered_df_feb['DOLocationID'].astype(str)\n"
     ]
    },
    {
     "name": "stdout",
     "output_type": "stream",
     "text": [
      "RMSE on validation: 7.81\n"
     ]
    }
   ],
   "source": [
    "# Preprocess the February data similarly\n",
    "df_february['tpep_pickup_datetime'] = pd.to_datetime(df_february['tpep_pickup_datetime'])\n",
    "df_february['tpep_dropoff_datetime'] = pd.to_datetime(df_february['tpep_dropoff_datetime'])\n",
    "df_february['duration'] = (df_february['tpep_dropoff_datetime'] - df_february['tpep_pickup_datetime']).dt.total_seconds() / 60\n",
    "filtered_df_feb = df_february[(df_february['duration'] >= 1) & (df_february['duration'] <= 60)]\n",
    "filtered_df_feb['PULocationID'] = filtered_df_feb['PULocationID'].astype(str)\n",
    "filtered_df_feb['DOLocationID'] = filtered_df_feb['DOLocationID'].astype(str)\n",
    "\n",
    "# Convert the February data to a list of dictionaries\n",
    "data_dicts_feb = filtered_df_feb[['PULocationID', 'DOLocationID']].to_dict(orient='records')\n",
    "\n",
    "# Transform the validation data using the fitted DictVectorizer\n",
    "X_val = dv.transform(data_dicts_feb)\n",
    "\n",
    "# Predict on the validation data\n",
    "y_val_pred = model.predict(X_val)\n",
    "\n",
    "# Calculate the RMSE on validation data\n",
    "target_val = filtered_df_feb['duration']\n",
    "rmse_val = np.sqrt(mean_squared_error(target_val, y_val_pred))\n",
    "print(f'RMSE on validation: {rmse_val:.2f}')"
   ]
  },
  {
   "cell_type": "code",
   "execution_count": null,
   "metadata": {},
   "outputs": [],
   "source": []
  }
 ],
 "metadata": {
  "kernelspec": {
   "display_name": "Python 3",
   "language": "python",
   "name": "python3"
  },
  "language_info": {
   "codemirror_mode": {
    "name": "ipython",
    "version": 3
   },
   "file_extension": ".py",
   "mimetype": "text/x-python",
   "name": "python",
   "nbconvert_exporter": "python",
   "pygments_lexer": "ipython3",
   "version": "3.11.5"
  }
 },
 "nbformat": 4,
 "nbformat_minor": 2
}
